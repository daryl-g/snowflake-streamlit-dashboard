{
 "cells": [
  {
   "cell_type": "markdown",
   "metadata": {},
   "source": [
    "## Test notebook\n",
    "\n",
    "- For testing smaller functions.\n",
    "- There will be separate test files, this is just for during development process."
   ]
  },
  {
   "cell_type": "code",
   "execution_count": 4,
   "metadata": {},
   "outputs": [],
   "source": [
    "import pandas as pd"
   ]
  },
  {
   "cell_type": "markdown",
   "metadata": {},
   "source": [
    "### Test converter"
   ]
  },
  {
   "cell_type": "code",
   "execution_count": 2,
   "metadata": {},
   "outputs": [],
   "source": [
    "from scripts.python.convert_json import converter\n",
    "\n",
    "json_converter = converter(\n",
    "    data_folder = \"AFF Cup 2020\"\n",
    ")"
   ]
  },
  {
   "cell_type": "code",
   "execution_count": 11,
   "metadata": {},
   "outputs": [],
   "source": [
    "test_stats = json_converter.import_json(\n",
    "    file_name = \"VIE_THA_stats.json\"\n",
    ")\n",
    "\n",
    "normalised_test = pd.json_normalize(test_stats[\"matchInfo\"][\"contestant\"])"
   ]
  },
  {
   "cell_type": "code",
   "execution_count": 13,
   "metadata": {},
   "outputs": [
    {
     "data": {
      "text/html": [
       "<div>\n",
       "<style scoped>\n",
       "    .dataframe tbody tr th:only-of-type {\n",
       "        vertical-align: middle;\n",
       "    }\n",
       "\n",
       "    .dataframe tbody tr th {\n",
       "        vertical-align: top;\n",
       "    }\n",
       "\n",
       "    .dataframe thead th {\n",
       "        text-align: right;\n",
       "    }\n",
       "</style>\n",
       "<table border=\"1\" class=\"dataframe\">\n",
       "  <thead>\n",
       "    <tr style=\"text-align: right;\">\n",
       "      <th></th>\n",
       "      <th>id</th>\n",
       "      <th>name</th>\n",
       "      <th>shortName</th>\n",
       "      <th>officialName</th>\n",
       "      <th>code</th>\n",
       "      <th>position</th>\n",
       "      <th>country.id</th>\n",
       "      <th>country.name</th>\n",
       "    </tr>\n",
       "  </thead>\n",
       "  <tbody>\n",
       "    <tr>\n",
       "      <th>0</th>\n",
       "      <td>a9rijkw11dvpb2ysf1pe3zcqo</td>\n",
       "      <td>Vietnam</td>\n",
       "      <td>Vietnam</td>\n",
       "      <td>Vietnam</td>\n",
       "      <td>VIE</td>\n",
       "      <td>home</td>\n",
       "      <td>747si8rr6manolqh31d1vz17q</td>\n",
       "      <td>Vietnam</td>\n",
       "    </tr>\n",
       "    <tr>\n",
       "      <th>1</th>\n",
       "      <td>90mzv0sgxnhjbfczqudqoo0vs</td>\n",
       "      <td>Thailand</td>\n",
       "      <td>Thailand</td>\n",
       "      <td>Thailand</td>\n",
       "      <td>THA</td>\n",
       "      <td>away</td>\n",
       "      <td>71wqq15l0mvpl4lneayzzh44g</td>\n",
       "      <td>Thailand</td>\n",
       "    </tr>\n",
       "  </tbody>\n",
       "</table>\n",
       "</div>"
      ],
      "text/plain": [
       "                          id      name shortName officialName code position  \\\n",
       "0  a9rijkw11dvpb2ysf1pe3zcqo   Vietnam   Vietnam      Vietnam  VIE     home   \n",
       "1  90mzv0sgxnhjbfczqudqoo0vs  Thailand  Thailand     Thailand  THA     away   \n",
       "\n",
       "                  country.id country.name  \n",
       "0  747si8rr6manolqh31d1vz17q      Vietnam  \n",
       "1  71wqq15l0mvpl4lneayzzh44g     Thailand  "
      ]
     },
     "execution_count": 13,
     "metadata": {},
     "output_type": "execute_result"
    }
   ],
   "source": [
    "normalised_test"
   ]
  }
 ],
 "metadata": {
  "kernelspec": {
   "display_name": "base",
   "language": "python",
   "name": "python3"
  },
  "language_info": {
   "codemirror_mode": {
    "name": "ipython",
    "version": 3
   },
   "file_extension": ".py",
   "mimetype": "text/x-python",
   "name": "python",
   "nbconvert_exporter": "python",
   "pygments_lexer": "ipython3",
   "version": "3.12.3"
  }
 },
 "nbformat": 4,
 "nbformat_minor": 2
}
