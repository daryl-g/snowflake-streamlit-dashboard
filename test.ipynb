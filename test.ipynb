{
 "cells": [
  {
   "cell_type": "markdown",
   "metadata": {},
   "source": [
    "## Test notebook\n",
    "\n",
    "- For testing smaller functions.\n",
    "- There will be separate test files, this is just for during development process."
   ]
  },
  {
   "cell_type": "code",
   "execution_count": 1,
   "metadata": {},
   "outputs": [],
   "source": [
    "import pandas as pd"
   ]
  },
  {
   "cell_type": "markdown",
   "metadata": {},
   "source": [
    "### Test converter"
   ]
  },
  {
   "cell_type": "code",
   "execution_count": 13,
   "metadata": {},
   "outputs": [],
   "source": [
    "from scripts.python.convert_json import converter\n",
    "\n",
    "json_converter = converter(\n",
    "    data_folder = \"2022 World Cup Asian Qualifiers\",\n",
    ")"
   ]
  },
  {
   "cell_type": "code",
   "execution_count": 3,
   "metadata": {},
   "outputs": [],
   "source": [
    "test_stats = json_converter.import_json(\n",
    "    file_name = \"VIE_THA_xgoal_stats.json\"\n",
    ")\n",
    "\n",
    "normalised_test = pd.json_normalize(test_stats)"
   ]
  },
  {
   "cell_type": "code",
   "execution_count": 14,
   "metadata": {},
   "outputs": [
    {
     "data": {
      "text/html": [
       "<div>\n",
       "<style scoped>\n",
       "    .dataframe tbody tr th:only-of-type {\n",
       "        vertical-align: middle;\n",
       "    }\n",
       "\n",
       "    .dataframe tbody tr th {\n",
       "        vertical-align: top;\n",
       "    }\n",
       "\n",
       "    .dataframe thead th {\n",
       "        text-align: right;\n",
       "    }\n",
       "</style>\n",
       "<table border=\"1\" class=\"dataframe\">\n",
       "  <thead>\n",
       "    <tr style=\"text-align: right;\">\n",
       "      <th></th>\n",
       "      <th>contestantId</th>\n",
       "      <th>contestantName</th>\n",
       "      <th>contestantShortName</th>\n",
       "      <th>contestantOfficialName</th>\n",
       "      <th>contestantCode</th>\n",
       "      <th>contestantCountryId</th>\n",
       "      <th>contestantCountryName</th>\n",
       "    </tr>\n",
       "  </thead>\n",
       "  <tbody>\n",
       "    <tr>\n",
       "      <th>0</th>\n",
       "      <td>a9rijkw11dvpb2ysf1pe3zcqo</td>\n",
       "      <td>Vietnam</td>\n",
       "      <td>Vietnam</td>\n",
       "      <td>Vietnam</td>\n",
       "      <td>VIE</td>\n",
       "      <td>747si8rr6manolqh31d1vz17q</td>\n",
       "      <td>Vietnam</td>\n",
       "    </tr>\n",
       "    <tr>\n",
       "      <th>1</th>\n",
       "      <td>58g81s16tc8hsmqhh0vyfbrrj</td>\n",
       "      <td>Oman</td>\n",
       "      <td>Oman</td>\n",
       "      <td>Oman</td>\n",
       "      <td>OMA</td>\n",
       "      <td>7er8r20ewopkflfj679v1dol5</td>\n",
       "      <td>Oman</td>\n",
       "    </tr>\n",
       "    <tr>\n",
       "      <th>2</th>\n",
       "      <td>9l4imoomrnyceg5u3kdxf5l5r</td>\n",
       "      <td>Saudi Arabia</td>\n",
       "      <td>Saudi Arabia</td>\n",
       "      <td>Saudi Arabia</td>\n",
       "      <td>KSA</td>\n",
       "      <td>639nv0r2ixeusx4nzqyzb5iuq</td>\n",
       "      <td>Saudi Arabia</td>\n",
       "    </tr>\n",
       "    <tr>\n",
       "      <th>3</th>\n",
       "      <td>6duaxcbrofil112qfq4v895go</td>\n",
       "      <td>Japan</td>\n",
       "      <td>Japan</td>\n",
       "      <td>Japan</td>\n",
       "      <td>JPN</td>\n",
       "      <td>lxyibh89lpdc0bfian1nx0xq</td>\n",
       "      <td>Japan</td>\n",
       "    </tr>\n",
       "    <tr>\n",
       "      <th>4</th>\n",
       "      <td>bl4fd8cxe6kjvjx8br82gkhnq</td>\n",
       "      <td>Australia</td>\n",
       "      <td>Australia</td>\n",
       "      <td>Australia</td>\n",
       "      <td>AUS</td>\n",
       "      <td>u5ieemi69z72c3bgczyy68lo</td>\n",
       "      <td>Australia</td>\n",
       "    </tr>\n",
       "    <tr>\n",
       "      <th>5</th>\n",
       "      <td>bur06vhektmgozn47md9dptk3</td>\n",
       "      <td>China PR</td>\n",
       "      <td>China PR</td>\n",
       "      <td>China PR</td>\n",
       "      <td>CHN</td>\n",
       "      <td>6e8huv1g6g173rptk3y6jsg5z</td>\n",
       "      <td>China PR</td>\n",
       "    </tr>\n",
       "  </tbody>\n",
       "</table>\n",
       "</div>"
      ],
      "text/plain": [
       "                contestantId contestantName contestantShortName  \\\n",
       "0  a9rijkw11dvpb2ysf1pe3zcqo        Vietnam             Vietnam   \n",
       "1  58g81s16tc8hsmqhh0vyfbrrj           Oman                Oman   \n",
       "2  9l4imoomrnyceg5u3kdxf5l5r   Saudi Arabia        Saudi Arabia   \n",
       "3  6duaxcbrofil112qfq4v895go          Japan               Japan   \n",
       "4  bl4fd8cxe6kjvjx8br82gkhnq      Australia           Australia   \n",
       "5  bur06vhektmgozn47md9dptk3       China PR            China PR   \n",
       "\n",
       "  contestantOfficialName contestantCode        contestantCountryId  \\\n",
       "0                Vietnam            VIE  747si8rr6manolqh31d1vz17q   \n",
       "1                   Oman            OMA  7er8r20ewopkflfj679v1dol5   \n",
       "2           Saudi Arabia            KSA  639nv0r2ixeusx4nzqyzb5iuq   \n",
       "3                  Japan            JPN   lxyibh89lpdc0bfian1nx0xq   \n",
       "4              Australia            AUS   u5ieemi69z72c3bgczyy68lo   \n",
       "5               China PR            CHN  6e8huv1g6g173rptk3y6jsg5z   \n",
       "\n",
       "  contestantCountryName  \n",
       "0               Vietnam  \n",
       "1                  Oman  \n",
       "2          Saudi Arabia  \n",
       "3                 Japan  \n",
       "4             Australia  \n",
       "5              China PR  "
      ]
     },
     "execution_count": 14,
     "metadata": {},
     "output_type": "execute_result"
    }
   ],
   "source": [
    "json_converter.json_to_df(\"contestants\")"
   ]
  }
 ],
 "metadata": {
  "kernelspec": {
   "display_name": "base",
   "language": "python",
   "name": "python3"
  },
  "language_info": {
   "codemirror_mode": {
    "name": "ipython",
    "version": 3
   },
   "file_extension": ".py",
   "mimetype": "text/x-python",
   "name": "python",
   "nbconvert_exporter": "python",
   "pygments_lexer": "ipython3",
   "version": "3.12.3"
  }
 },
 "nbformat": 4,
 "nbformat_minor": 2
}
